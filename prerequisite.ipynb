{
  "nbformat": 4,
  "nbformat_minor": 0,
  "metadata": {
    "colab": {
      "provenance": []
    },
    "kernelspec": {
      "name": "python3",
      "display_name": "Python 3"
    },
    "language_info": {
      "name": "python"
    }
  },
  "cells": [
    {
      "cell_type": "markdown",
      "source": [
        "**Question 1**\n",
        "\n",
        "How many multiplications and additions do you need to perform a matrix multiplication between a (n, k) and (k, m) matrix? Explain.\n",
        "\n",
        "**Solution:-**\n",
        "\n",
        "First Matrix :- n rows, k columns\n",
        "<br>\n",
        "Second Matrix :- k rows, m columns \n",
        "\n",
        "Final Matrix :- n rows and m columns\n",
        "\n",
        "In the resulting matrix of the multiplication, to get value of each cell we have to perform a scaler product of two vectors of length k. \n",
        "\n",
        "Performing this scaler product between two vectors of size k, will result in k multiplications and k-1 additions.\n",
        "\n",
        "Since there will be a total of n x m values, the total number of operations will nm((k-1)+(k))"
      ],
      "metadata": {
        "id": "9nuO0aqY9-OT"
      }
    },
    {
      "cell_type": "markdown",
      "source": [
        "**Question 2**\n",
        "\n",
        "Write Python code to multiply the above two matrices. Solve using list of lists and then use numpy. Compare the timing of both solutions. Which one is faster? Why?"
      ],
      "metadata": {
        "id": "YL8cOtqYCSuP"
      }
    },
    {
      "cell_type": "code",
      "source": [
        "#Initializing Random Matrix\n",
        "import numpy as np\n",
        "\n",
        "a = np.random.randint(1000, size = (100, 500))\n",
        "b = np.random.randint(1000, size = (500, 100))"
      ],
      "metadata": {
        "id": "Ow_RrMWCTZsQ"
      },
      "execution_count": 5,
      "outputs": []
    },
    {
      "cell_type": "code",
      "source": [
        "def matrix_mult(m1, m2):\n",
        "\n",
        "    n = len(m1)\n",
        "    k = len(m2)\n",
        "    m = len(m2[0])\n",
        "\n",
        "    final_matrix = [[0 for _ in range(m)] for _ in range(n)]\n",
        "\n",
        "    for i in range(n):\n",
        "        for j in range(m):\n",
        "            for l in range(k):\n",
        "                final_matrix[i][j] += (m1[i][l] * m2[l][j])\n",
        "\n",
        "    return final_matrix"
      ],
      "metadata": {
        "id": "U3lhSCx0RpsN"
      },
      "execution_count": 6,
      "outputs": []
    },
    {
      "cell_type": "code",
      "source": [
        "np.matmul(a, b)"
      ],
      "metadata": {
        "id": "OYQdMzmxSXTI",
        "colab": {
          "base_uri": "https://localhost:8080/"
        },
        "outputId": "9a088f5c-fbb1-4c2a-8f3f-92052a51dfca"
      },
      "execution_count": 7,
      "outputs": [
        {
          "output_type": "execute_result",
          "data": {
            "text/plain": [
              "array([[129822525, 128342982, 126159141, ..., 130814447, 121250529,\n",
              "        126518549],\n",
              "       [134048574, 135626214, 135584839, ..., 136491877, 127124148,\n",
              "        132495718],\n",
              "       [129290074, 127612647, 126896091, ..., 125714622, 121981461,\n",
              "        127724984],\n",
              "       ...,\n",
              "       [133527227, 132063095, 129319584, ..., 133157682, 129603272,\n",
              "        131117932],\n",
              "       [134126703, 128081635, 127881111, ..., 132598734, 125123843,\n",
              "        127831845],\n",
              "       [130467145, 127803960, 124810731, ..., 126689752, 122720628,\n",
              "        122489776]])"
            ]
          },
          "metadata": {},
          "execution_count": 7
        }
      ]
    },
    {
      "cell_type": "code",
      "source": [
        "import time\n",
        "\n",
        "array_timings = []\n",
        "for i in range(10): #Change this to a larger number\n",
        "    t1 = time.time()\n",
        "    matrix_mult(a, b)\n",
        "    t2 = time.time()\n",
        "    array_timings.append(t2 - t1)\n",
        "\n",
        "numpy_timings = []\n",
        "for i in range(10):\n",
        "    t1 = time.time()\n",
        "    np.matmul(a, b)\n",
        "    t2 = time.time()\n",
        "    numpy_timings.append(t2 - t1)"
      ],
      "metadata": {
        "id": "AfobGWpcSzZr"
      },
      "execution_count": 8,
      "outputs": []
    },
    {
      "cell_type": "code",
      "source": [
        "import statistics\n",
        "\n",
        "print('Average Time using list of lists:- ' + str(statistics.mean(array_timings)))\n",
        "print('Std. Deviation of Time using list of lists:- ' + str(statistics.stdev(array_timings)))"
      ],
      "metadata": {
        "colab": {
          "base_uri": "https://localhost:8080/"
        },
        "id": "Z5c5ydNVfFv9",
        "outputId": "ddc40ff7-75cb-448e-f3e2-40cd9cca3331"
      },
      "execution_count": 9,
      "outputs": [
        {
          "output_type": "stream",
          "name": "stdout",
          "text": [
            "Average Time using list of lists:- 3.5506635189056395\n",
            "Std. Deviation of Time using list of lists:- 0.06067590550092914\n"
          ]
        }
      ]
    },
    {
      "cell_type": "code",
      "source": [
        "print('Average Time using Numpy:- ' + str(statistics.mean(numpy_timings)))\n",
        "print('Std. Deviation of Time using Numpy:- ' + str(statistics.stdev(numpy_timings)))"
      ],
      "metadata": {
        "colab": {
          "base_uri": "https://localhost:8080/"
        },
        "id": "UycA0ErkVaEl",
        "outputId": "ea072996-f6f5-47b7-ac82-9a4e1fecb251"
      },
      "execution_count": 10,
      "outputs": [
        {
          "output_type": "stream",
          "name": "stdout",
          "text": [
            "Average Time using Numpy:- 0.00774540901184082\n",
            "Std. Deviation of Time using Numpy:- 0.0008697837134780256\n"
          ]
        }
      ]
    },
    {
      "cell_type": "markdown",
      "source": [
        "Comparing the two timings, it's clear that using Numpy is faster. \n",
        "\n",
        "Libraries are certainly more optimised. Some of the optimizations can be:-\n",
        "\n",
        "*   It breaks down the task into fragments and processes them parallely.\n",
        "*   Numpy is a homogenous data type stored in contiguous memory. List are heterogeneous data types stored in non-contiguous memory. \n",
        "*   It integrates C, C++ in Python which have very less execution time compared to Python."
      ],
      "metadata": {
        "id": "l2wvVuLvf9FW"
      }
    },
    {
      "cell_type": "markdown",
      "source": [
        "**Question 3**\n",
        "\n",
        "Finding the highest element in a list requires one pass of the array. Finding the second highest element requires 2 passes of the the array. Using this method, what is the time complexity of finding the median of the array? Can you suggest a better method? Can you implement both these methods in Python and compare against numpy.median routine in terms of time?\n",
        "\n",
        "**Solution**\n",
        "\n",
        "To find the median of the array using the method described in question, we need to find the largest element, second largest element, third largest element and so on, till we the find the median of the array. \n",
        "\n",
        "So for largest element it takes O(n) time, second largest O(2n), etc. For the middle element it will take O(n*(n/2)) time. Ignoring the constant, the complexity of this algorithm will be O(n^2).\n",
        "\n",
        "A better method could be to just sort the array and find the median, which will take O(nlogn) time. We can also different algorithms such as Quickselect or Median of Median which have an average case complexity of O(n)."
      ],
      "metadata": {
        "id": "ghXtocYJkhhX"
      }
    },
    {
      "cell_type": "code",
      "source": [
        "import copy\n",
        "\n",
        "def get_median(orig_arr):\n",
        "    arr = copy.deepcopy(orig_arr)\n",
        "    n = len(arr)\n",
        "\n",
        "    if(n%2 != 0):\n",
        "        for i in range(n // 2 + 1):\n",
        "            curr_max = max(arr)\n",
        "            arr.remove(curr_max)\n",
        "        return curr_max\n",
        "    else:\n",
        "        for i in range(n // 2 + 1):\n",
        "            curr_max = max(arr)\n",
        "            if(i == n//2 - 1):\n",
        "                other_max = curr_max\n",
        "            arr.remove(curr_max)\n",
        "        return (curr_max + other_max)/2"
      ],
      "metadata": {
        "id": "IAMD0iXJnQcs"
      },
      "execution_count": 66,
      "outputs": []
    },
    {
      "cell_type": "code",
      "source": [
        "import random\n",
        "array = [random.randint(-10000, 10000) for _ in range(5000)]\n",
        "\n",
        "array_timings = []\n",
        "for i in range(100): #Change this to a larger number\n",
        "    t1 = time.time()\n",
        "    median = get_median(array)\n",
        "    t2 = time.time()\n",
        "    array_timings.append(t2 - t1)\n",
        "\n",
        "numpy_timings = []\n",
        "for i in range(100):\n",
        "    t1 = time.time()\n",
        "    np.median(array)\n",
        "    t2 = time.time()\n",
        "    numpy_timings.append(t2 - t1)"
      ],
      "metadata": {
        "id": "r7gMYTSPtvZx"
      },
      "execution_count": 80,
      "outputs": []
    },
    {
      "cell_type": "code",
      "source": [
        "print('Average Time using own algo:- ' + str(statistics.mean(array_timings)))\n",
        "print('Std. Deviation of Time using own algo:- ' + str(statistics.stdev(array_timings)))"
      ],
      "metadata": {
        "colab": {
          "base_uri": "https://localhost:8080/"
        },
        "id": "E4YtFzsat542",
        "outputId": "e5d4c9b2-68d6-4ae3-aa2b-19fbd76c5d86"
      },
      "execution_count": 81,
      "outputs": [
        {
          "output_type": "stream",
          "name": "stdout",
          "text": [
            "Average Time using own algo:- 0.2723805713653564\n",
            "Std. Deviation of Time using own algo:- 0.041673712713468127\n"
          ]
        }
      ]
    },
    {
      "cell_type": "code",
      "source": [
        "print('Average Time using Numpy:- ' + str(statistics.mean(numpy_timings)))\n",
        "print('Std. Deviation of Time using Numpy:- ' + str(statistics.stdev(numpy_timings)))"
      ],
      "metadata": {
        "colab": {
          "base_uri": "https://localhost:8080/"
        },
        "id": "3ZMNua8-t6UQ",
        "outputId": "ebdea37b-d2ad-4b66-c86a-cac28a195ea9"
      },
      "execution_count": 82,
      "outputs": [
        {
          "output_type": "stream",
          "name": "stdout",
          "text": [
            "Average Time using Numpy:- 0.0004677104949951172\n",
            "Std. Deviation of Time using Numpy:- 2.644889247523721e-05\n"
          ]
        }
      ]
    },
    {
      "cell_type": "markdown",
      "source": [
        "**Question 4**\n",
        "\n",
        "What is the gradient of the following function with respect to x and y?\n",
        "\n",
        "$$x^2y + y^3sin(x)$$\n",
        "\n",
        "**Solution**\n",
        "\n",
        "Gradient of a function is the partial derivation with respect to each variable.\n",
        "\n",
        "$$f(x,y) = x^2y + y^3sin(x)$$\n",
        "$$df/dx = 2xy + y^3cos(x)$$\n",
        "$$df/dy = x^2 + 3y^2sin(x)$$\n",
        "<br>\n",
        "$$\\begin{bmatrix} df/dx \\\\ df/dy \\end{bmatrix} = \\begin{bmatrix} 2xy + y^3cos(x) \\\\ x^2 + 3y^2sin(x) \\end{bmatrix} $$"
      ],
      "metadata": {
        "id": "tE2I1WV902nI"
      }
    },
    {
      "cell_type": "markdown",
      "source": [
        "**Question 5**\n",
        "\n",
        "Use `JAX` to confirm the gradient evaluated by your method matches the analytical solution corresponding to a few random values of x and y"
      ],
      "metadata": {
        "id": "8DCfWhdZ2Ik8"
      }
    },
    {
      "cell_type": "code",
      "source": [
        "import jax.numpy as jnp\n",
        "import math\n",
        "from jax import grad\n",
        "\n",
        "def f(x, y):\n",
        "    return x**2 * y + y**3 * jnp.sin(x)\n",
        "\n",
        "def explicit_grad_wrt_x(x, y):\n",
        "    return 2*x*y + y**3 * jnp.cos(x)\n",
        "\n",
        "def explicit_grad_wrt_y(x, y):\n",
        "    return x**2 + 3*y**2 * jnp.sin(x)\n",
        "\n",
        "df_dx = grad(f, argnums=0) # Compute the gradient of f with respect to x\n",
        "df_dy = grad(f, argnums=1) # Compute the gradient of f with respect to y\n",
        "\n",
        "input = [[2., 3.], [4., 6.], [4., 1.], [7., 3.]]\n",
        "for curr in input:\n",
        "    print(f\"Explicit Gradient with respect to x: {explicit_grad_wrt_x(curr[0], curr[1])}\")\n",
        "    print(f\"Explicit Gradient with respect to y: {explicit_grad_wrt_y(curr[0], curr[1])}\")\n",
        "    print(f\"Gradient with respect to x: {df_dx(curr[0], curr[1])}\")\n",
        "    print(f\"Gradient with respect to y: {df_dy(curr[0], curr[1])}\")\n",
        "    print()"
      ],
      "metadata": {
        "colab": {
          "base_uri": "https://localhost:8080/"
        },
        "id": "dx_RExFa5Tzx",
        "outputId": "c70c86f2-b34c-42aa-d954-64f54866daf0"
      },
      "execution_count": 95,
      "outputs": [
        {
          "output_type": "stream",
          "name": "stdout",
          "text": [
            "Explicit Gradient with respect to x: 0.7640352249145508\n",
            "Explicit Gradient with respect to y: 28.551029205322266\n",
            "Gradient with respect to x: 0.7640352249145508\n",
            "Gradient with respect to y: 28.551029205322266\n",
            "\n",
            "Explicit Gradient with respect to x: -93.18701171875\n",
            "Explicit Gradient with respect to y: -65.73467254638672\n",
            "Gradient with respect to x: -93.18701171875\n",
            "Gradient with respect to y: -65.73467254638672\n",
            "\n",
            "Explicit Gradient with respect to x: 7.346356391906738\n",
            "Explicit Gradient with respect to y: 13.729592323303223\n",
            "Gradient with respect to x: 7.346356391906738\n",
            "Gradient with respect to y: 13.729592323303223\n",
            "\n",
            "Explicit Gradient with respect to x: 62.35536193847656\n",
            "Explicit Gradient with respect to y: 66.73863983154297\n",
            "Gradient with respect to x: 62.35536193847656\n",
            "Gradient with respect to y: 66.73863983154297\n",
            "\n"
          ]
        }
      ]
    },
    {
      "cell_type": "markdown",
      "source": [
        "**Question 6**\n",
        "\n",
        "Use `sympy` to confirm that you obtain the same gradient analytically."
      ],
      "metadata": {
        "id": "wS79i77W9QWD"
      }
    },
    {
      "cell_type": "code",
      "source": [
        "import sympy\n",
        "\n",
        "x, y = sympy.symbols('x y')\n",
        "f = x**2 * y + y**3 * sympy.sin(x)\n",
        "\n",
        "gradient_x = sympy.diff(f, x)\n",
        "gradient_y = sympy.diff(f, y)\n",
        "\n",
        "print(f\"Gradient with respect to x: {gradient_x}\")\n",
        "print(f\"Gradient with respect to y: {gradient_y}\")"
      ],
      "metadata": {
        "colab": {
          "base_uri": "https://localhost:8080/"
        },
        "id": "BSU8oOM-9Xhi",
        "outputId": "9f753e38-359d-4df9-ad7c-4a4303632ec4"
      },
      "execution_count": 96,
      "outputs": [
        {
          "output_type": "stream",
          "name": "stdout",
          "text": [
            "Gradient with respect to x: 2*x*y + y**3*cos(x)\n",
            "Gradient with respect to y: x**2 + 3*y**2*sin(x)\n"
          ]
        }
      ]
    },
    {
      "cell_type": "markdown",
      "source": [
        "**Question 7**\n",
        "\n",
        "Create a Python nested dictionary to represent hierarchical information. "
      ],
      "metadata": {
        "id": "B0pKZRRbJ7Dq"
      }
    },
    {
      "cell_type": "code",
      "source": [
        "student_info = {\n",
        "    2022: {\n",
        "        \"Branch 1\": {\n",
        "            1: {\n",
        "                \"Name\": \"N\",\n",
        "                \"Marks\": {\n",
        "                    \"Maths\": 100,\n",
        "                    \"English\": 70\n",
        "                }\n",
        "            }\n",
        "        },\n",
        "        \"Branch 2\": {}\n",
        "    },\n",
        "    2023: {\n",
        "        \"Branch 1\": {},\n",
        "        \"Branch 2\": {}\n",
        "    },\n",
        "    2024: {\n",
        "        \"Branch 1\": {},\n",
        "        \"Branch 2\": {}\n",
        "    },\n",
        "    2025: {\n",
        "        \"Branch 1\": {},\n",
        "        \"Branch 2\": {}\n",
        "    }\n",
        "}"
      ],
      "metadata": {
        "id": "85a7l-SWKamG"
      },
      "execution_count": 97,
      "outputs": []
    },
    {
      "cell_type": "markdown",
      "source": [
        "**Question 8**\n",
        "\n",
        "Store the same information using Python classes. We have an overall database which is a list of year objects. Each year contains a list of branches. Each branch contains a list of students. Each student has some properties like name, roll number and has marks in some subjects."
      ],
      "metadata": {
        "id": "tg4QKW_YLVBi"
      }
    },
    {
      "cell_type": "code",
      "source": [
        "class Student:\n",
        "    def __init__(self, roll_number, name, marks):\n",
        "        self.roll_number = roll_number\n",
        "        self.name = name\n",
        "        self.marks = marks\n",
        "\n",
        "class Branch:\n",
        "    def __init__(self, name, students):\n",
        "        self.name = name\n",
        "        self.students = students\n",
        "\n",
        "class Year:\n",
        "    def __init__(self, year, branches):\n",
        "        self.year = year\n",
        "        self.branches = branches\n",
        "\n",
        "student = Student(1, \"N\", {\"Maths\": 100, \"English\": 70})\n",
        "\n",
        "branch_with_students = Branch(\"Branch 1\", [student])\n",
        "branch1 = Branch(\"Branch 1\", [])\n",
        "branch2 = Branch(\"Branch 2\", [])\n",
        "\n",
        "year1 = Year(2022, [branch_with_students, branch2])\n",
        "year2 = Year(2023, [branch1, branch2])\n",
        "year3 = Year(2024, [branch1, branch2])\n",
        "year4 = Year(2025, [branch1, branch2])\n",
        "\n",
        "database = [year1, year2, year3, year4]"
      ],
      "metadata": {
        "id": "FIbMoWweLabk"
      },
      "execution_count": 99,
      "outputs": []
    },
    {
      "cell_type": "markdown",
      "source": [
        "**Question 9**"
      ],
      "metadata": {
        "id": "8y_Etdl895pi"
      }
    },
    {
      "cell_type": "markdown",
      "source": [
        "Using matplotlib plot the following functions on the domain: x = 0.5 to 100.0 in steps of 0.5.\n",
        "\n",
        "1. $y = x$\n",
        "2. $y = x^2$\n",
        "3. $y = x^3/100$\n",
        "4. $y = sin(x)$\n",
        "5. $y = sin(x)/x$\n",
        "6. $y = log(x)$\n",
        "7. $y = e^x$"
      ],
      "metadata": {
        "id": "dEzoaDwn_Eju"
      }
    },
    {
      "cell_type": "code",
      "source": [
        "import matplotlib.pyplot as plt\n",
        "import numpy as np\n",
        "\n",
        "x = np.arange(0.5, 100.01, 0.5)\n",
        "\n",
        "y = x\n",
        "plt.plot(x, y)\n",
        "plt.xlabel('x - axis')\n",
        "plt.ylabel('y - axis')\n",
        "plt.title('y = x')\n",
        "plt.show()\n",
        "\n",
        "y = x**2\n",
        "plt.plot(x, y)\n",
        "plt.xlabel('x - axis')\n",
        "plt.ylabel('y - axis')\n",
        "plt.title('y = x^2')\n",
        "plt.show()\n",
        "\n",
        "y = (x**3)/100\n",
        "plt.plot(x, y)\n",
        "plt.xlabel('x - axis')\n",
        "plt.ylabel('y - axis')\n",
        "plt.title('y = x^3/100')\n",
        "plt.show()\n",
        "\n",
        "y = np.sin(x)\n",
        "plt.plot(x, y)\n",
        "plt.xlabel('x - axis')\n",
        "plt.ylabel('y - axis')\n",
        "plt.title('y = sin(x)')\n",
        "plt.show()\n",
        "\n",
        "y = (np.sin(x))/x\n",
        "plt.plot(x, y)\n",
        "plt.xlabel('x - axis')\n",
        "plt.ylabel('y - axis')\n",
        "plt.title('y = sin(x)/x')\n",
        "plt.show()\n",
        "\n",
        "y = np.log(x)\n",
        "plt.plot(x, y)\n",
        "plt.xlabel('x - axis')\n",
        "plt.ylabel('y - axis')\n",
        "plt.title('y = log(x)')\n",
        "plt.show()\n",
        "\n",
        "y = np.exp(x)\n",
        "plt.plot(x, y)\n",
        "plt.xlabel('x - axis')\n",
        "plt.ylabel('y - axis')\n",
        "plt.title('y = e^x')\n",
        "plt.show()"
      ],
      "metadata": {
        "colab": {
          "base_uri": "https://localhost:8080/",
          "height": 1000
        },
        "id": "_C8YGBxKAQ_m",
        "outputId": "0e4aadb1-22ca-480b-b0ee-73f6217a70a1"
      },
      "execution_count": 20,
      "outputs": [
        {
          "output_type": "display_data",
          "data": {
            "text/plain": [
              "<Figure size 432x288 with 1 Axes>"
            ],
            "image/png": "[encoded data removed]"
          },
          "metadata": {
            "needs_background": "light"
          }
        },
        {
          "output_type": "display_data",
          "data": {
            "text/plain": [
              "<Figure size 432x288 with 1 Axes>"
            ],
            "image/png": "[encoded data removed]"
          },
          "metadata": {
            "needs_background": "light"
          }
        },
        {
          "output_type": "display_data",
          "data": {
            "text/plain": [
              "<Figure size 432x288 with 1 Axes>"
            ],
            "image/png": "[encoded data removed]"
          },
          "metadata": {
            "needs_background": "light"
          }
        },
        {
          "output_type": "display_data",
          "data": {
            "text/plain": [
              "<Figure size 432x288 with 1 Axes>"
            ],
            "image/png": "[encoded data removed]"
          },
          "metadata": {
            "needs_background": "light"
          }
        },
        {
          "output_type": "display_data",
          "data": {
            "text/plain": [
              "<Figure size 432x288 with 1 Axes>"
            ],
            "image/png": "[encoded data removed]"
          },
          "metadata": {
            "needs_background": "light"
          }
        },
        {
          "output_type": "display_data",
          "data": {
            "text/plain": [
              "<Figure size 432x288 with 1 Axes>"
            ],
            "image/png": "[encoded data removed]"
          },
          "metadata": {
            "needs_background": "light"
          }
        }
      ]
    },
    {
      "cell_type": "markdown",
      "source": [
        "**Question 10**\n",
        "\n",
        "Using numpy generate a matrix of size 20X5 containing random numbers drawn uniformly from the range of 1 to 2. Using Pandas create a dataframe out of this matrix. Name the columns of the dataframe as “a”, “b”, “c”, “d”, “e”. Find the column with the highest standard deviation. Find the row with the lowest mean."
      ],
      "metadata": {
        "id": "sDjGIIiINS11"
      }
    },
    {
      "cell_type": "code",
      "source": [
        "import numpy as np\n",
        "import pandas as pd\n",
        "\n",
        "matrix = np.random.uniform(low = 1, high = 2, size = (20, 5))\n",
        "df = pd.DataFrame(matrix, columns=['a', 'b', 'c', 'd', 'e'])\n",
        "print(df)\n",
        "\n",
        "max_std = df.std(axis = 0).idxmax()\n",
        "min_mean = df.mean(axis = 1).idxmin()\n",
        "print(max_std, min_mean)"
      ],
      "metadata": {
        "colab": {
          "base_uri": "https://localhost:8080/"
        },
        "id": "BxHN5-paNegX",
        "outputId": "b60d82d2-eeee-42ef-a340-64b42f708f79"
      },
      "execution_count": 21,
      "outputs": [
        {
          "output_type": "stream",
          "name": "stdout",
          "text": [
            "           a         b         c         d         e\n",
            "0   1.797752  1.746665  1.906898  1.361945  1.488465\n",
            "1   1.140127  1.635431  1.450247  1.674772  1.111553\n",
            "2   1.114371  1.541257  1.664750  1.255642  1.070994\n",
            "3   1.785373  1.439025  1.865247  1.750431  1.746075\n",
            "4   1.424476  1.836737  1.048001  1.375518  1.609531\n",
            "5   1.045481  1.213327  1.602867  1.418957  1.540527\n",
            "6   1.114466  1.255142  1.687946  1.377522  1.891915\n",
            "7   1.397231  1.177088  1.697429  1.487579  1.628108\n",
            "8   1.255704  1.142048  1.850996  1.443320  1.788983\n",
            "9   1.854212  1.182129  1.273221  1.995419  1.843945\n",
            "10  1.108569  1.448861  1.369372  1.936880  1.605041\n",
            "11  1.418561  1.452169  1.009363  1.759363  1.569674\n",
            "12  1.530192  1.411936  1.074946  1.078733  1.074387\n",
            "13  1.634659  1.735883  1.584085  1.087867  1.565728\n",
            "14  1.591018  1.190545  1.692112  1.199063  1.110265\n",
            "15  1.936814  1.075344  1.729090  1.479975  1.436822\n",
            "16  1.258673  1.191559  1.840590  1.584794  1.208419\n",
            "17  1.380932  1.852485  1.617773  1.311096  1.009243\n",
            "18  1.886601  1.939952  1.814678  1.697444  1.169465\n",
            "19  1.252997  1.929058  1.043919  1.353342  1.920763\n",
            "e 12\n"
          ]
        }
      ]
    },
    {
      "cell_type": "markdown",
      "source": [
        "**Question 11**\n",
        "\n",
        "Add a new column to the dataframe called “f” which is the sum of the columns “a”, “b”, “c”, “d”, “e”. Create another column called “g”. The value in the column “g” should be “LT8” if the value in the column “f” is less than 8 and “GT8” otherwise. Find the number of rows in the dataframe where the value in the column “g” is “LT8”. Find the standard deviation of the column “f” for the rows where the value in the column “g” is “LT8” and “GT8” respectively."
      ],
      "metadata": {
        "id": "UwmVKSK-OpHG"
      }
    },
    {
      "cell_type": "code",
      "source": [
        "df['f'] = df['a'] + df['b'] + df['c'] + df['d'] + df['e']\n",
        "df['g'] = np.where(df['f'] < 8, 'LT8', 'GT8')\n",
        "print(df)\n",
        "\n",
        "rows_where_lt8 = len(df[df['g'] == 'LT8'])\n",
        "\n",
        "std_where_lt8 = df[df['g'] == 'LT8']['f'].std()\n",
        "std_where_gt8 = df[df['g'] == 'GT8']['f'].std()\n",
        "print(std_where_lt8, std_where_gt8)"
      ],
      "metadata": {
        "colab": {
          "base_uri": "https://localhost:8080/"
        },
        "id": "5UcS0ux5O06Q",
        "outputId": "2ae6ecc5-0482-44e9-fa21-ad3c67c4e684"
      },
      "execution_count": 22,
      "outputs": [
        {
          "output_type": "stream",
          "name": "stdout",
          "text": [
            "           a         b         c         d         e         f    g\n",
            "0   1.797752  1.746665  1.906898  1.361945  1.488465  8.301726  GT8\n",
            "1   1.140127  1.635431  1.450247  1.674772  1.111553  7.012131  LT8\n",
            "2   1.114371  1.541257  1.664750  1.255642  1.070994  6.647014  LT8\n",
            "3   1.785373  1.439025  1.865247  1.750431  1.746075  8.586151  GT8\n",
            "4   1.424476  1.836737  1.048001  1.375518  1.609531  7.294263  LT8\n",
            "5   1.045481  1.213327  1.602867  1.418957  1.540527  6.821160  LT8\n",
            "6   1.114466  1.255142  1.687946  1.377522  1.891915  7.326992  LT8\n",
            "7   1.397231  1.177088  1.697429  1.487579  1.628108  7.387434  LT8\n",
            "8   1.255704  1.142048  1.850996  1.443320  1.788983  7.481052  LT8\n",
            "9   1.854212  1.182129  1.273221  1.995419  1.843945  8.148926  GT8\n",
            "10  1.108569  1.448861  1.369372  1.936880  1.605041  7.468723  LT8\n",
            "11  1.418561  1.452169  1.009363  1.759363  1.569674  7.209130  LT8\n",
            "12  1.530192  1.411936  1.074946  1.078733  1.074387  6.170194  LT8\n",
            "13  1.634659  1.735883  1.584085  1.087867  1.565728  7.608223  LT8\n",
            "14  1.591018  1.190545  1.692112  1.199063  1.110265  6.783002  LT8\n",
            "15  1.936814  1.075344  1.729090  1.479975  1.436822  7.658045  LT8\n",
            "16  1.258673  1.191559  1.840590  1.584794  1.208419  7.084035  LT8\n",
            "17  1.380932  1.852485  1.617773  1.311096  1.009243  7.171529  LT8\n",
            "18  1.886601  1.939952  1.814678  1.697444  1.169465  8.508139  GT8\n",
            "19  1.252997  1.929058  1.043919  1.353342  1.920763  7.500079  LT8\n",
            "0.3991971310857862 0.19856498718622614\n"
          ]
        }
      ]
    },
    {
      "cell_type": "markdown",
      "source": [
        "**Question 12**\n",
        "\n",
        "Write a small piece of code to explain broadcasting in numpy.\n",
        "\n",
        "**Explanation:-**\n",
        "\n",
        "Broadcasting refers to how numpy treats arrays with different dimensions during arithmetic operations which can lead to constraints. \n",
        "\n",
        "The smaller array is broadcasted across the larger array so that they have compatible shapes. One example of it will be the following code:-"
      ],
      "metadata": {
        "id": "SbYwG9tcTkHT"
      }
    },
    {
      "cell_type": "code",
      "source": [
        "import numpy as np\n",
        "\n",
        "matrix = np.array([[1, 2], [3, 4], [5, 6]])\n",
        "print(matrix)\n",
        " \n",
        "x = 4\n",
        "print(x)\n",
        "\n",
        "print(matrix + x)"
      ],
      "metadata": {
        "colab": {
          "base_uri": "https://localhost:8080/"
        },
        "id": "IpVaLyg-TnQG",
        "outputId": "a96e7857-478c-44b7-cf06-e9db849fcde3"
      },
      "execution_count": 1,
      "outputs": [
        {
          "output_type": "stream",
          "name": "stdout",
          "text": [
            "[[1 2]\n",
            " [3 4]\n",
            " [5 6]]\n",
            "4\n",
            "[[ 5  6]\n",
            " [ 7  8]\n",
            " [ 9 10]]\n"
          ]
        }
      ]
    },
    {
      "cell_type": "markdown",
      "source": [
        "**Question 13**\n",
        "\n",
        "Write a function to compute the argmin of a numpy array. The function should take a numpy array as input and return the index of the minimum element. You can use the np.argmin function to verify your solution."
      ],
      "metadata": {
        "id": "c55MD7-1RvH0"
      }
    },
    {
      "cell_type": "code",
      "source": [
        "def find_min(array):\n",
        "\n",
        "    if(len(array) == 0 ):\n",
        "        print(\"Empty array\")\n",
        "\n",
        "    min = 10000000000000\n",
        "    index = -1\n",
        "\n",
        "    for i in range(len(array)):\n",
        "        if(min > array[i]):\n",
        "            min = array[i]\n",
        "            index = i\n",
        "\n",
        "    return (index, min)\n",
        "\n",
        "array = np.array([6123, 344, 5656, 6767, 123, 133, 4545, 566, 67, 12, 45, 67, 888])\n",
        "\n",
        "print(find_min(array))\n",
        "print(array.argmin())"
      ],
      "metadata": {
        "colab": {
          "base_uri": "https://localhost:8080/"
        },
        "id": "w-IaH7X5-a9-",
        "outputId": "5aeacdb8-497d-492e-dc36-b66baca11348"
      },
      "execution_count": 5,
      "outputs": [
        {
          "output_type": "stream",
          "name": "stdout",
          "text": [
            "(9, 12)\n",
            "9\n"
          ]
        }
      ]
    }
  ]
}